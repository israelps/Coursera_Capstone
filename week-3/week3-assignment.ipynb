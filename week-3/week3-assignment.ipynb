{
 "cells": [
  {
   "cell_type": "markdown",
   "metadata": {},
   "source": [
    "#### *Imports Needed*"
   ]
  },
  {
   "cell_type": "code",
   "execution_count": 1,
   "metadata": {},
   "outputs": [],
   "source": [
    "from pandas.io.html import read_html\n",
    "import numpy as np"
   ]
  },
  {
   "cell_type": "markdown",
   "metadata": {},
   "source": [
    "* *html to float markdown tables to left*"
   ]
  },
  {
   "cell_type": "code",
   "execution_count": 2,
   "metadata": {},
   "outputs": [
    {
     "data": {
      "text/html": [
       "<style>\n",
       "table {float:left}\n",
       "</style>\n"
      ],
      "text/plain": [
       "<IPython.core.display.HTML object>"
      ]
     },
     "metadata": {},
     "output_type": "display_data"
    }
   ],
   "source": [
    "%%html\n",
    "<style>\n",
    "table {float:left}\n",
    "</style>"
   ]
  },
  {
   "cell_type": "markdown",
   "metadata": {},
   "source": [
    "## **Part 1 - Get and Prepare Dataset**"
   ]
  },
  {
   "cell_type": "markdown",
   "metadata": {},
   "source": [
    "* Get data from Wikipedia -  [link here](https://en.wikipedia.org/wiki/List_of_postal_codes_of_Canada:_M)\n",
    "* Create a dataframe with the collected data\n",
    "* Remove rows where borough is *Not assigned*\n",
    "* Join Neibhbourhood with the same Postal Code\n",
    "* Set *Not assigned* neighbourhood with the borough name\n",
    "***"
   ]
  },
  {
   "cell_type": "markdown",
   "metadata": {},
   "source": [
    "#### *1. get html data and convert to a pandas dataframe*"
   ]
  },
  {
   "cell_type": "code",
   "execution_count": 8,
   "metadata": {},
   "outputs": [
    {
     "name": "stdout",
     "output_type": "stream",
     "text": [
      "(287, 2)\n"
     ]
    }
   ],
   "source": [
    "page = 'https://en.wikipedia.org/wiki/List_of_postal_codes_of_Canada:_M'\n",
    "wikitables = read_html(page, index_col=0,  attrs={\"class\":\"wikitable\"})\n",
    "toronto_postal = wikitables[0]\n",
    "print(toronto_postal.shape)"
   ]
  },
  {
   "cell_type": "markdown",
   "metadata": {},
   "source": [
    "#### *2. cleaning and prepare data*"
   ]
  },
  {
   "cell_type": "code",
   "execution_count": 13,
   "metadata": {},
   "outputs": [
    {
     "name": "stdout",
     "output_type": "stream",
     "text": [
      "Shape of dataset: (103, 2)\n"
     ]
    }
   ],
   "source": [
    "toronto_postal.Borough.replace('Not assigned',np.nan, inplace=True) #set NaN to not assigned borough\n",
    "toronto_postal.dropna(inplace=True) #drop nan values\n",
    "toronto_postal['Neighbourhood'] = toronto_postal.groupby(['Postcode'])['Neighbourhood'].apply(lambda x: ', '.join(x)) #join Neibhbourhood with the same Postal Code\n",
    "toronto_postal = toronto_postal.loc[~toronto_postal.index.duplicated(keep='first')] #remove duplicated postal codes\n",
    "toronto_postal.Neighbourhood.replace('Not assigned',toronto_postal.Borough, inplace=True) #replace not assigned neighbourhoods with borough name\n",
    "print('Shape of dataset: %s'%(str(toronto_postal.shape)))"
   ]
  },
  {
   "cell_type": "markdown",
   "metadata": {},
   "source": [
    "#### *3. test data*\n",
    "* **must match:**\n",
    "\n",
    "| PostalCode | Borough          | Neighbourhood                          |\n",
    "|------------|------------------|----------------------------------------|\n",
    "| M7A        | Queen's Park     | Queen's Park                           |\n",
    "| M5X        | Downtown Toronto | First Canadian Place, Underground city |\n",
    "| M1C        | Scarborough      | Highland Creek, Rouge Hill, Port Union |\n",
    "\n"
   ]
  },
  {
   "cell_type": "code",
   "execution_count": 5,
   "metadata": {},
   "outputs": [
    {
     "data": {
      "text/html": [
       "<div>\n",
       "<style scoped>\n",
       "    .dataframe tbody tr th:only-of-type {\n",
       "        vertical-align: middle;\n",
       "    }\n",
       "\n",
       "    .dataframe tbody tr th {\n",
       "        vertical-align: top;\n",
       "    }\n",
       "\n",
       "    .dataframe thead th {\n",
       "        text-align: right;\n",
       "    }\n",
       "</style>\n",
       "<table border=\"1\" class=\"dataframe\">\n",
       "  <thead>\n",
       "    <tr style=\"text-align: right;\">\n",
       "      <th></th>\n",
       "      <th>Borough</th>\n",
       "      <th>Neighbourhood</th>\n",
       "    </tr>\n",
       "    <tr>\n",
       "      <th>Postcode</th>\n",
       "      <th></th>\n",
       "      <th></th>\n",
       "    </tr>\n",
       "  </thead>\n",
       "  <tbody>\n",
       "    <tr>\n",
       "      <th>M7A</th>\n",
       "      <td>Queen's Park</td>\n",
       "      <td>Queen's Park</td>\n",
       "    </tr>\n",
       "    <tr>\n",
       "      <th>M5X</th>\n",
       "      <td>Downtown Toronto</td>\n",
       "      <td>First Canadian Place, Underground city</td>\n",
       "    </tr>\n",
       "    <tr>\n",
       "      <th>M1C</th>\n",
       "      <td>Scarborough</td>\n",
       "      <td>Highland Creek, Rouge Hill, Port Union</td>\n",
       "    </tr>\n",
       "  </tbody>\n",
       "</table>\n",
       "</div>"
      ],
      "text/plain": [
       "                   Borough                           Neighbourhood\n",
       "Postcode                                                          \n",
       "M7A           Queen's Park                            Queen's Park\n",
       "M5X       Downtown Toronto  First Canadian Place, Underground city\n",
       "M1C            Scarborough  Highland Creek, Rouge Hill, Port Union"
      ]
     },
     "execution_count": 5,
     "metadata": {},
     "output_type": "execute_result"
    }
   ],
   "source": [
    "toronto_postal.loc[['M7A','M5X','M1C']] #they match ;)"
   ]
  },
  {
   "cell_type": "code",
   "execution_count": 14,
   "metadata": {},
   "outputs": [
    {
     "name": "stdout",
     "output_type": "stream",
     "text": [
      "Shape of dataset: (103, 2)\n"
     ]
    }
   ],
   "source": [
    "#reset index to put PostalCode as a column and save on a variable called toronto\n",
    "toronto = toronto_postal.reset_index()\n",
    "print('Shape of dataset: %s'%(str(toronto_postal.shape)))"
   ]
  },
  {
   "cell_type": "code",
   "execution_count": null,
   "metadata": {},
   "outputs": [],
   "source": []
  }
 ],
 "metadata": {
  "kernelspec": {
   "display_name": "Python 3",
   "language": "python",
   "name": "python3"
  },
  "language_info": {
   "codemirror_mode": {
    "name": "ipython",
    "version": 3
   },
   "file_extension": ".py",
   "mimetype": "text/x-python",
   "name": "python",
   "nbconvert_exporter": "python",
   "pygments_lexer": "ipython3",
   "version": "3.7.3"
  }
 },
 "nbformat": 4,
 "nbformat_minor": 4
}
